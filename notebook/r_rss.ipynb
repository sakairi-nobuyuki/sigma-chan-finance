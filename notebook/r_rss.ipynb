{
 "cells": [
  {
   "cell_type": "code",
   "execution_count": 21,
   "metadata": {},
   "outputs": [
    {
     "name": "stdout",
     "output_type": "stream",
     "text": [
      "root directory:  /home/nsakairi/sigma-chan-nandece\n",
      "ctypes:  ['ARRAY', 'ArgumentError', 'Array', 'BigEndianStructure', 'CDLL', 'CFUNCTYPE', 'DEFAULT_MODE', 'LibraryLoader', 'LittleEndianStructure', 'POINTER', 'PYFUNCTYPE', 'PyDLL', 'RTLD_GLOBAL', 'RTLD_LOCAL', 'SetPointerType', 'Structure', 'Union', '_CFuncPtr', '_FUNCFLAG_CDECL', '_FUNCFLAG_PYTHONAPI', '_FUNCFLAG_USE_ERRNO', '_FUNCFLAG_USE_LASTERROR', '_Pointer', '_SimpleCData', '__builtins__', '__cached__', '__doc__', '__file__', '__loader__', '__name__', '__package__', '__path__', '__spec__', '__version__', '_c_functype_cache', '_calcsize', '_cast', '_cast_addr', '_check_size', '_ctypes_version', '_dlopen', '_endian', '_memmove_addr', '_memset_addr', '_os', '_pointer_type_cache', '_reset_cache', '_string_at', '_string_at_addr', '_sys', '_wstring_at', '_wstring_at_addr', 'addressof', 'alignment', 'byref', 'c_bool', 'c_buffer', 'c_byte', 'c_char', 'c_char_p', 'c_double', 'c_float', 'c_int', 'c_int16', 'c_int32', 'c_int64', 'c_int8', 'c_long', 'c_longdouble', 'c_longlong', 'c_short', 'c_size_t', 'c_ssize_t', 'c_ubyte', 'c_uint', 'c_uint16', 'c_uint32', 'c_uint64', 'c_uint8', 'c_ulong', 'c_ulonglong', 'c_ushort', 'c_void_p', 'c_voidp', 'c_wchar', 'c_wchar_p', 'cast', 'cdll', 'create_string_buffer', 'create_unicode_buffer', 'get_errno', 'memmove', 'memset', 'pointer', 'py_object', 'pydll', 'pythonapi', 'resize', 'set_errno', 'sizeof', 'string_at', 'wstring_at']\n",
      "dll in ctypes:  [None, None, None, None, None, None, None, None, None, None, None, None, None, None, None, None, None, None, None, None, None, None, None, None, None, None, None, None, None, None, None, None, None, None, None, None, None, None, None, None, None, None, None, None, None, None, None, None, None, None, None, None, None, None, None, None, None, None, None, None, None, None, None, None, None, None, None, None, None, None, None, None, None, None, None, None, None, None, None, None, None, None, None, None, None, None, None, None, None, None, None, None, None, None, None, None, None, None, None, None, None, None]\n"
     ]
    },
    {
     "ename": "ImportError",
     "evalue": "cannot import name 'windll' from 'ctypes' (/usr/lib/python3.8/ctypes/__init__.py)",
     "output_type": "error",
     "traceback": [
      "\u001b[0;31m---------------------------------------------------------------------------\u001b[0m",
      "\u001b[0;31mImportError\u001b[0m                               Traceback (most recent call last)",
      "Cell \u001b[0;32mIn[21], line 15\u001b[0m\n\u001b[1;32m     13\u001b[0m \u001b[39mprint\u001b[39m(\u001b[39m\"\u001b[39m\u001b[39mctypes: \u001b[39m\u001b[39m\"\u001b[39m, \u001b[39mdir\u001b[39m(ctypes))\n\u001b[1;32m     14\u001b[0m \u001b[39mprint\u001b[39m(\u001b[39m\"\u001b[39m\u001b[39mdll in ctypes: \u001b[39m\u001b[39m\"\u001b[39m, [re\u001b[39m.\u001b[39mmatch(\u001b[39m\"\u001b[39m\u001b[39md\u001b[39m\u001b[39m\"\u001b[39m, item) \u001b[39mfor\u001b[39;00m item \u001b[39min\u001b[39;00m \u001b[39mdir\u001b[39m(ctypes)])\n\u001b[0;32m---> 15\u001b[0m \u001b[39mfrom\u001b[39;00m \u001b[39msigma_chan_nandece\u001b[39;00m\u001b[39m.\u001b[39;00m\u001b[39mrakuten_rss\u001b[39;00m \u001b[39mimport\u001b[39;00m rakuten_rss \u001b[39mas\u001b[39;00m rrs\n",
      "File \u001b[0;32m~/sigma-chan-nandece/sigma_chan_nandece/rakuten_rss/rakuten_rss.py:4\u001b[0m\n\u001b[1;32m      1\u001b[0m \u001b[39m\"\"\"楽天RSS用モジュール\u001b[39;00m\n\u001b[1;32m      2\u001b[0m \u001b[39m\"\"\"\u001b[39;00m\n\u001b[1;32m      3\u001b[0m \u001b[39m#from lib.ddeclient import DDEClient\u001b[39;00m\n\u001b[0;32m----> 4\u001b[0m \u001b[39mfrom\u001b[39;00m \u001b[39m.\u001b[39;00m\u001b[39mlib\u001b[39;00m\u001b[39m.\u001b[39;00m\u001b[39mddeclient\u001b[39;00m \u001b[39mimport\u001b[39;00m DDEClient\n\u001b[1;32m      7\u001b[0m \u001b[39mdef\u001b[39;00m \u001b[39mrss\u001b[39m(code, item):\n\u001b[1;32m      8\u001b[0m \u001b[39m\t\u001b[39m\u001b[39m\"\"\" 楽天RSSから情報を取得\u001b[39;00m\n\u001b[1;32m      9\u001b[0m \u001b[39m\tParameters\u001b[39;00m\n\u001b[1;32m     10\u001b[0m \u001b[39m\t----------\u001b[39;00m\n\u001b[0;32m   (...)\u001b[0m\n\u001b[1;32m     32\u001b[0m \n\u001b[1;32m     33\u001b[0m \u001b[39m\t\"\"\"\u001b[39;00m\n",
      "File \u001b[0;32m~/sigma-chan-nandece/sigma_chan_nandece/rakuten_rss/lib/ddeclient.py:17\u001b[0m\n\u001b[1;32m     15\u001b[0m \u001b[39mimport\u001b[39;00m \u001b[39msys\u001b[39;00m\n\u001b[1;32m     16\u001b[0m \u001b[39mfrom\u001b[39;00m \u001b[39mctypes\u001b[39;00m \u001b[39mimport\u001b[39;00m c_int, c_double, c_char_p, c_void_p, c_ulong, c_char, pointer, cast\n\u001b[0;32m---> 17\u001b[0m \u001b[39mfrom\u001b[39;00m \u001b[39mctypes\u001b[39;00m \u001b[39mimport\u001b[39;00m windll, byref, create_string_buffer, Structure, sizeof\n\u001b[1;32m     18\u001b[0m \u001b[39mfrom\u001b[39;00m \u001b[39mctypes\u001b[39;00m \u001b[39mimport\u001b[39;00m POINTER, WINFUNCTYPE\n\u001b[1;32m     19\u001b[0m \u001b[39mfrom\u001b[39;00m \u001b[39mctypes\u001b[39;00m\u001b[39m.\u001b[39;00m\u001b[39mwintypes\u001b[39;00m \u001b[39mimport\u001b[39;00m BOOL, HWND, MSG, DWORD, BYTE, INT, LPCWSTR, UINT, ULONG, LPCSTR\n",
      "\u001b[0;31mImportError\u001b[0m: cannot import name 'windll' from 'ctypes' (/usr/lib/python3.8/ctypes/__init__.py)"
     ]
    }
   ],
   "source": [
    "import os\n",
    "import pprint\n",
    "import sys\n",
    "from pathlib import Path\n",
    "\n",
    "working_dir = Path().resolve()\n",
    "root_dir_path = os.path.dirname(working_dir)\n",
    "print(\"root directory: \", root_dir_path)\n",
    "sys.path.append(root_dir_path)\n",
    "sys.path.append(f\"{root_dir_path}/rakuten_rss/lib\")\n",
    "import ctypes\n",
    "import re\n",
    "print(\"ctypes: \", dir(ctypes))\n",
    "print(\"dll in ctypes: \", [re.findall(\"d\", item) for item in dir(ctypes)])\n",
    "from sigma_chan_nandece.rakuten_rss import rakuten_rss as rrs"
   ]
  }
 ],
 "metadata": {
  "kernelspec": {
   "display_name": "sigma_chan_nandece",
   "language": "python",
   "name": "sigma_chan_nandece"
  },
  "language_info": {
   "codemirror_mode": {
    "name": "ipython",
    "version": 3
   },
   "file_extension": ".py",
   "mimetype": "text/x-python",
   "name": "python",
   "nbconvert_exporter": "python",
   "pygments_lexer": "ipython3",
   "version": "3.8.10"
  },
  "orig_nbformat": 4,
  "vscode": {
   "interpreter": {
    "hash": "767d51c1340bd893661ea55ea3124f6de3c7a262a8b4abca0554b478b1e2ff90"
   }
  }
 },
 "nbformat": 4,
 "nbformat_minor": 2
}
